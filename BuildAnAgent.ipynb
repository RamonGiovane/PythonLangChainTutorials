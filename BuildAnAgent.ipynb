{
  "nbformat": 4,
  "nbformat_minor": 0,
  "metadata": {
    "colab": {
      "provenance": [],
      "authorship_tag": "ABX9TyPQYnmtd2l8tYTzMFoSJShm"
    },
    "kernelspec": {
      "name": "python3",
      "display_name": "Python 3"
    },
    "language_info": {
      "name": "python"
    }
  },
  "cells": [
    {
      "cell_type": "markdown",
      "source": [
        "# Build an Agent\n",
        "By themselves, language models can't take actions - they just output text. A big use case for LangChain is creating agents. Agents are systems that use LLMs as reasoning engines to determine which actions to take and the inputs necessary to perform the action. After executing actions, the results can be fed back into the LLM to determine whether more actions are needed, or whether it is okay to finish. This is often achieved via tool-calling.\n",
        "\n",
        "In this tutorial we will build an agent that can interact with a search engine. You will be able to ask this agent questions, watch it call the search tool, and have conversations with it."
      ],
      "metadata": {
        "id": "sb8-Eby0WBaf"
      }
    },
    {
      "cell_type": "markdown",
      "source": [
        "## End-to-end agent\n",
        "The code snippet below represents a fully functional agent that uses an LLM to decide which tools to use. It is equipped with a generic search tool. It has conversational memory - meaning that it can be used as a multi-turn chatbot.\n",
        "\n",
        "In the rest of the guide, we will walk through the individual components and what each part does - but if you want to just grab some code and get started, feel free to use this!"
      ],
      "metadata": {
        "id": "bAsMrT5MWMUF"
      }
    },
    {
      "cell_type": "code",
      "source": [
        "# Import relevant functionality\n",
        "from langchain_community.tools.tavily_search import TavilySearchResults\n",
        "from langchain_core.messages import HumanMessage\n",
        "from langgraph.checkpoint.memory import MemorySaver\n",
        "from langgraph.prebuilt import create_react_agent\n",
        "from langchain.chat_models import init_chat_model\n",
        "\n",
        "# Create the agent\n",
        "memory = MemorySaver()\n",
        "model = init_chat_model(\"gemini-2.0-flash\", model_provider=\"google_genai\")\n",
        "search = TavilySearchResults(max_results=2)\n",
        "tools = [search]\n",
        "agent_executor = create_react_agent(model, tools, checkpointer=memory)\n",
        "\n",
        "# Use the agent\n",
        "config = {\"configurable\": {\"thread_id\": \"abc123\"}}\n",
        "for step in agent_executor.stream(\n",
        "    {\"messages\": [HumanMessage(content=\"hi im bob! and i live in sf\")]},\n",
        "    config,\n",
        "    stream_mode=\"values\",\n",
        "):\n",
        "    step[\"messages\"][-1].pretty_print()\n",
        "\n",
        "# Use the agent with the Tavily tool\n",
        "for step in agent_executor.stream(\n",
        "    {\"messages\": [HumanMessage(content=\"whats the weather where I live?\")]},\n",
        "    config,\n",
        "    stream_mode=\"values\",\n",
        "):\n",
        "    step[\"messages\"][-1].pretty_print()"
      ],
      "metadata": {
        "colab": {
          "base_uri": "https://localhost:8080/"
        },
        "id": "PwT7hOjWWKBi",
        "outputId": "d9703667-60f2-4fa6-b6b5-3fe80dfd2ce5"
      },
      "execution_count": 46,
      "outputs": [
        {
          "output_type": "stream",
          "name": "stdout",
          "text": [
            "================================\u001b[1m Human Message \u001b[0m=================================\n",
            "\n",
            "hi im bob! and i live in sf\n",
            "==================================\u001b[1m Ai Message \u001b[0m==================================\n",
            "\n",
            "Hi Bob! Nice to meet you. Is there anything I can help you with today?\n",
            "================================\u001b[1m Human Message \u001b[0m=================================\n",
            "\n",
            "whats the weather where I live?\n",
            "==================================\u001b[1m Ai Message \u001b[0m==================================\n",
            "Tool Calls:\n",
            "  tavily_search_results_json (db4d66ce-c332-4adb-8d93-66380cf07a82)\n",
            " Call ID: db4d66ce-c332-4adb-8d93-66380cf07a82\n",
            "  Args:\n",
            "    query: weather in San Francisco\n",
            "=================================\u001b[1m Tool Message \u001b[0m=================================\n",
            "Name: tavily_search_results_json\n",
            "\n",
            "[{\"title\": \"March 2025 Weather History in San Francisco California, United ...\", \"url\": \"https://weatherspark.com/h/m/557/2025/3/Historical-Weather-in-March-2025-in-San-Francisco-California-United-States\", \"content\": \",0l6,0l5,0l6,176l5,80l6,176l6,0l5,-80l6,80l5,-432l6,-272l5,-96l6,-80l6,-176l5,-96l6,-448l5,0l6,96l6,272l5,256l6,176l5,176l6,96l5,0l6,96l6,-96l5,176l6,272\\\" [...] ,-49l5,0l6,196l5,98l6,-98l5,342l6,-49l6,-48l5,-49l6,-147l5,147l6,97l6,98l5,-98l5,0l1,49l5,196l6,-147l5,0l6,0l6,-49l5,-293l6,-98l5,-342l6,-49l6,147l5,-147l6,244l5,196l6,196l5,-196l5,98l1,49l6,49l5,0l6,146l5,196l6,-147l6,-98l5,245l6,-245l5,0l6,245l5,-245l6,0l6,49l5,-97l6,-147l5,-147l6,-49l6,49l5,98l6,0l5,147l6,0l5,49l6,293l6,0l5,-147l6,0\\\" [...] d=\\\"M750,449l134,0l0,393l-134,0ZM884,384l134,0l0,523l-134,0ZM1018,678l134,0l0,295l-134,0ZM1152,646l134,0l0,523l-134,0ZM1286,1104l134,0l0,392l-134,0ZM1420,1202l134,0l0,425l-134,0ZM1554,1562l134,0l0,294l-134,0ZM1688,1398l134,0l0,328l-134,0ZM1822,1136l134,0l0,328l-134,0ZM1956,744l134,0l0,425l-134,0ZM2090,613l134,0l0,556l-134,0ZM2224,1202l134,0l0,753l-134,0ZM2358,1496l134,0l0,622l-134,0ZM2492,776l134,0l0,655l-134,0ZM2626,515l134,0l0,229l-134,0ZM2760,776l134,0l0,557l-134,0ZM2894,1398l134,0l0,131l-134\", \"score\": 0.8700796}]\n",
            "==================================\u001b[1m Ai Message \u001b[0m==================================\n",
            "\n",
            "I'm sorry, I don't have enough information to give you a specific weather forecast for San Francisco. The search results I found provide historical weather data for March 2025, but not the current weather conditions. To get the current weather, I need to perform a different search.  Is there anything else I can help you with?\n"
          ]
        }
      ]
    },
    {
      "cell_type": "code",
      "source": [],
      "metadata": {
        "id": "8KBLYqEXWSn0"
      },
      "execution_count": null,
      "outputs": []
    },
    {
      "cell_type": "markdown",
      "source": [
        "## Setup\n"
      ],
      "metadata": {
        "id": "DotIJaeZUV9W"
      }
    },
    {
      "cell_type": "markdown",
      "source": [
        "### Installation\n",
        "To install LangChain run:"
      ],
      "metadata": {
        "id": "ed09j0HPTvjC"
      }
    },
    {
      "cell_type": "code",
      "execution_count": null,
      "metadata": {
        "id": "xlBK9H-MRJxr"
      },
      "outputs": [],
      "source": [
        "!pip install -U langchain-community langgraph langchain-anthropic tavily-python langgraph-checkpoint-sqlite\n",
        "!pip install -qU \"langchain[google-genai]\""
      ]
    },
    {
      "cell_type": "markdown",
      "source": [
        "### LangSmith\n",
        "Many of the applications you build with LangChain will contain multiple steps with multiple invocations of LLM calls. As these applications get more and more complex, it becomes crucial to be able to inspect what exactly is going on inside your chain or agent. The best way to do this is with LangSmith."
      ],
      "metadata": {
        "id": "BDBOQ4RTUJkR"
      }
    },
    {
      "cell_type": "markdown",
      "source": [
        "### Tavily\n",
        "We will be using Tavily (a search engine) as a tool. In order to use it, you will need to get and set an API key:"
      ],
      "metadata": {
        "id": "lfDc-AfCUawL"
      }
    },
    {
      "cell_type": "markdown",
      "source": [
        "### Using Language Models\n",
        "We will learn how to use a language model to call tools. LangChain supports many different language models that you can use interchangably. We will be using Gemini 2.0 Flash here."
      ],
      "metadata": {
        "id": "GLEHqn3jVb-C"
      }
    },
    {
      "cell_type": "markdown",
      "source": [
        "### Entering the credentials"
      ],
      "metadata": {
        "id": "cayAwsXkUeRD"
      }
    },
    {
      "cell_type": "code",
      "source": [
        "import getpass\n",
        "import os\n",
        "\n",
        "os.environ[\"LANGSMITH_TRACING\"] = \"true\"\n",
        "os.environ[\"LANGSMITH_API_KEY\"] = getpass.getpass('LANGSMITH: ')\n",
        "os.environ[\"TAVILY_API_KEY\"] = getpass.getpass('TAVILY: ')\n",
        "os.environ[\"GOOGLE_API_KEY\"] = getpass.getpass(\"Enter API key for Google Gemini: \")"
      ],
      "metadata": {
        "colab": {
          "base_uri": "https://localhost:8080/"
        },
        "id": "F5Oyxe9RSW9Z",
        "outputId": "61655b3f-92ae-4d1c-8d75-e26cfba02028"
      },
      "execution_count": 17,
      "outputs": [
        {
          "name": "stdout",
          "output_type": "stream",
          "text": [
            "LANGSMITH: ··········\n",
            "TRAVELY: ··········\n",
            "Enter API key for Google Gemini: ··········\n"
          ]
        }
      ]
    },
    {
      "cell_type": "code",
      "source": [],
      "metadata": {
        "colab": {
          "base_uri": "https://localhost:8080/"
        },
        "id": "ElunCsTZSjh8",
        "outputId": "f04cc2cd-72a7-4407-fcdb-ead7417b28e3"
      },
      "execution_count": 3,
      "outputs": [
        {
          "name": "stdout",
          "output_type": "stream",
          "text": [
            "··········\n"
          ]
        }
      ]
    },
    {
      "cell_type": "markdown",
      "source": [
        "## Define tools\n",
        "We first need to create the tools we want to use. Our main tool of choice will be Tavily - a search engine. We have a built-in tool in LangChain to easily use Tavily search engine as tool."
      ],
      "metadata": {
        "id": "lyTaIH3pTOLs"
      }
    },
    {
      "cell_type": "code",
      "source": [
        "from langchain_community.tools.tavily_search import TavilySearchResults\n",
        "\n",
        "search = TavilySearchResults(max_results=2)\n",
        "search_results = search.invoke(\"what is the weather in SF\")\n",
        "print(search_results)\n",
        "# If we want, we can create other tools.\n",
        "# Once we have all the tools we want, we can put them in a list that we will reference later.\n",
        "tools = [search]"
      ],
      "metadata": {
        "colab": {
          "base_uri": "https://localhost:8080/"
        },
        "id": "KQM9ektlTMjc",
        "outputId": "8c24ee20-70ae-4848-ecb8-511a87ff0664"
      },
      "execution_count": 38,
      "outputs": [
        {
          "output_type": "stream",
          "name": "stdout",
          "text": [
            "[{'title': 'Thursday, March 6, 2025. San Francisco, CA - Weather Forecast', 'url': 'https://weathershogun.com/weather/usa/ca/san-francisco/480/march/2025-03-06', 'content': 'San Francisco, California Weather: Thursday, March 6, 2025. Partly sunny weather with scattered clouds and occasional rain showers.', 'score': 0.94536424}, {'title': 'Weather in San Francisco in March 2025 (California)', 'url': 'https://world-weather.info/forecast/usa/san_francisco/march-2025/', 'content': 'Weather in San Francisco in March 2025 San Francisco Weather Forecast for March 2025 is based on statistical data. March +50° +50° +48° +50° +52° +46° +46° +46° +46° +46° +48° +54° +46° +46° +48° +50° +52° +46° +45° +46° +48° +50° +50° +50° +59° +55° +55° +54° +48° +50° +54° Average weather in March 2025 Extended weather forecast in San Francisco Weather in large and nearby cities Weather in Washington, D.C.+55° Sacramento+82° Pleasanton+73° Redwood City+68° San Leandro+64° San Mateo+64° San Rafael+66° San Ramon+72° South San Francisco+55° Vallejo+68° Palo Alto+72° Pacifica+52° Berkeley+66° Castro Valley+66° Concord+79° Daly City+54° Pleasant Hill+79° Columbia Gardens+64°', 'score': 0.9281033}]\n"
          ]
        }
      ]
    },
    {
      "cell_type": "markdown",
      "source": [
        "## Initialize the Language Model\n"
      ],
      "metadata": {
        "id": "4QZiNjgXS4bp"
      }
    },
    {
      "cell_type": "code",
      "source": [
        "from langchain.chat_models import init_chat_model\n",
        "model = init_chat_model(\"gemini-2.0-flash\", model_provider=\"google_genai\")"
      ],
      "metadata": {
        "id": "_zayTk9rVALa"
      },
      "execution_count": 45,
      "outputs": []
    },
    {
      "cell_type": "markdown",
      "source": [
        "You can call the language model by passing in a list of messages. By default, the response is a content string."
      ],
      "metadata": {
        "id": "lOosB4v_Syyq"
      }
    },
    {
      "cell_type": "code",
      "source": [
        "from langchain_core.messages import HumanMessage\n",
        "\n",
        "response = model.invoke([HumanMessage(content=\"hi!\")])\n",
        "response.content"
      ],
      "metadata": {
        "colab": {
          "base_uri": "https://localhost:8080/",
          "height": 36
        },
        "id": "hqgG3U_1VbFU",
        "outputId": "b77aad5a-46fe-4ea0-a5f4-3adbef92ff8b"
      },
      "execution_count": 44,
      "outputs": [
        {
          "output_type": "execute_result",
          "data": {
            "text/plain": [
              "'Hi there! How can I help you today?'"
            ],
            "application/vnd.google.colaboratory.intrinsic+json": {
              "type": "string"
            }
          },
          "metadata": {},
          "execution_count": 44
        }
      ]
    },
    {
      "cell_type": "markdown",
      "source": [
        "We can now see what it is like to enable this model to do tool calling. In order to enable that we use .bind_tools to give the language model knowledge of these tools"
      ],
      "metadata": {
        "id": "_ebS5pFpMkvU"
      }
    },
    {
      "cell_type": "code",
      "source": [
        "model_with_tools = model.bind_tools(tools)"
      ],
      "metadata": {
        "id": "KXQScN2fMmkn"
      },
      "execution_count": 20,
      "outputs": []
    },
    {
      "cell_type": "markdown",
      "source": [
        "We can now call the model. Let's first call it with a normal message, and see how it responds. We can look at both the content field as well as the tool_calls field."
      ],
      "metadata": {
        "id": "RmLvKUvBMwWN"
      }
    },
    {
      "cell_type": "code",
      "source": [
        "response = model_with_tools.invoke([HumanMessage(content=\"Hi!\")])\n",
        "\n",
        "print(f\"ContentString: {response.content}\")\n",
        "print(f\"ToolCalls: {response.tool_calls}\")"
      ],
      "metadata": {
        "colab": {
          "base_uri": "https://localhost:8080/"
        },
        "id": "PCC0K69UM8gs",
        "outputId": "ff8591cd-2ac8-4bb6-d80c-de31f0c0f5ed"
      },
      "execution_count": 21,
      "outputs": [
        {
          "output_type": "stream",
          "name": "stdout",
          "text": [
            "ContentString: Hi there! How can I help you today?\n",
            "ToolCalls: []\n"
          ]
        }
      ]
    },
    {
      "cell_type": "markdown",
      "source": [
        "Now, let's try calling it with some input that would expect a tool to be called."
      ],
      "metadata": {
        "id": "YPtT4f_bNDlG"
      }
    },
    {
      "cell_type": "markdown",
      "source": [],
      "metadata": {
        "id": "vKMZpQvZQdwA"
      }
    },
    {
      "cell_type": "code",
      "source": [
        "response = model_with_tools.invoke([HumanMessage(content=\"What's the weather in SF?\")])\n",
        "\n",
        "print(f\"ContentString: {response.content}\")\n",
        "print(f\"ToolCalls: {response.tool_calls}\")"
      ],
      "metadata": {
        "colab": {
          "base_uri": "https://localhost:8080/"
        },
        "id": "mJABh35PNIUF",
        "outputId": "1afd38aa-f486-4d75-e5ca-76d42083f8da"
      },
      "execution_count": 27,
      "outputs": [
        {
          "output_type": "stream",
          "name": "stdout",
          "text": [
            "ContentString: \n",
            "ToolCalls: [{'name': 'tavily_search_results_json', 'args': {'query': 'weather in San Francisco'}, 'id': '54366354-652a-47b7-be14-e131de85e51c', 'type': 'tool_call'}]\n"
          ]
        }
      ]
    },
    {
      "cell_type": "markdown",
      "source": [
        "We can see that there's now no text content, but there is a tool call! It wants us to call the Tavily Search tool.\n",
        "\n",
        "This isn't calling that tool yet - it's just telling us to. In order to actually call it, we'll want to create our agent.\n",
        "\n",
        "## Create the agent\n",
        "Now that we have defined the tools and the LLM, we can create the agent. We will be using LangGraph to construct the agent. Currently, we are using a high level interface to construct the agent, but the nice thing about LangGraph is that this high-level interface is backed by a low-level, highly controllable API in case you want to modify the agent logic.\n",
        "\n",
        "Now, we can initialize the agent with the LLM and the tools.\n",
        "\n",
        "Note that we are passing in the model, not `model_with_tools`. That is because `create_react_agent` will call `.bind_tools` for us under the hood."
      ],
      "metadata": {
        "id": "x1m1sVMSNqUM"
      }
    },
    {
      "cell_type": "code",
      "source": [
        "from langgraph.prebuilt import create_react_agent\n",
        "\n",
        "agent_executor = create_react_agent(model, tools)"
      ],
      "metadata": {
        "id": "CWayaf1jOAJ1"
      },
      "execution_count": 40,
      "outputs": []
    },
    {
      "cell_type": "markdown",
      "source": [
        "## Run the agent\n",
        "We can now run the agent with a few queries! Note that for now, these are all stateless queries (it won't remember previous interactions). Note that the agent will return the final state at the end of the interaction (which includes any inputs, we will see later on how to get only the outputs).\n",
        "\n",
        "First up, let's see how it responds when there's no need to call a tool:\n",
        "\n"
      ],
      "metadata": {
        "id": "JD0bjVC-Obp_"
      }
    },
    {
      "cell_type": "code",
      "source": [
        "response = agent_executor.invoke({\"messages\": [HumanMessage(content=\"hi!\")]})\n",
        "\n",
        "response[\"messages\"]"
      ],
      "metadata": {
        "colab": {
          "base_uri": "https://localhost:8080/"
        },
        "id": "q4ShvIVeOdar",
        "outputId": "6ae5e961-bd58-4adb-e2ac-29a9d3afd54a"
      },
      "execution_count": 41,
      "outputs": [
        {
          "output_type": "execute_result",
          "data": {
            "text/plain": [
              "[HumanMessage(content='hi!', additional_kwargs={}, response_metadata={}, id='8db5c8dc-c3f7-4f10-a7f4-c3bde9d61384'),\n",
              " AIMessage(content='Hi there! How can I help you today?', additional_kwargs={}, response_metadata={'prompt_feedback': {'block_reason': 0, 'safety_ratings': []}, 'finish_reason': 'STOP', 'model_name': 'gemini-2.0-flash', 'safety_ratings': []}, id='run--8875c1b3-d3b1-40bc-9220-de4de381d41e-0', usage_metadata={'input_tokens': 51, 'output_tokens': 11, 'total_tokens': 62, 'input_token_details': {'cache_read': 0}})]"
            ]
          },
          "metadata": {},
          "execution_count": 41
        }
      ]
    },
    {
      "cell_type": "markdown",
      "source": [
        "In order to see exactly what is happening under the hood (and to make sure it's not calling a tool) we can take a look at the [LangSmith trace](https://smith.langchain.com/public/28311faa-e135-4d6a-ab6b-caecf6482aaa/r/fe129b40-7c0a-4e9e-82e3-1c19b00d04f0)\n",
        "\n",
        "Let's now try it out on an example where it should be invoking the tool (Tavily):"
      ],
      "metadata": {
        "id": "aplk532FPBPE"
      }
    },
    {
      "cell_type": "code",
      "source": [
        "response = agent_executor.invoke(\n",
        "    {\"messages\": [HumanMessage(content=\"whats the weather in sf?\")]}\n",
        ")\n",
        "response[\"messages\"]"
      ],
      "metadata": {
        "colab": {
          "base_uri": "https://localhost:8080/"
        },
        "id": "ZYZurfOiPA4z",
        "outputId": "28ec11c4-2ab3-466a-acb0-c123bed833df"
      },
      "execution_count": 42,
      "outputs": [
        {
          "output_type": "execute_result",
          "data": {
            "text/plain": [
              "[HumanMessage(content='whats the weather in sf?', additional_kwargs={}, response_metadata={}, id='b94a2fa8-9b2c-4638-9f13-13188c8ff852'),\n",
              " AIMessage(content='', additional_kwargs={'function_call': {'name': 'tavily_search_results_json', 'arguments': '{\"query\": \"weather in San Francisco\"}'}}, response_metadata={'prompt_feedback': {'block_reason': 0, 'safety_ratings': []}, 'finish_reason': 'STOP', 'model_name': 'gemini-2.0-flash', 'safety_ratings': []}, id='run--a27d19b2-8ff2-4f6e-ac5d-ba767da9e864-0', tool_calls=[{'name': 'tavily_search_results_json', 'args': {'query': 'weather in San Francisco'}, 'id': 'cd270d5c-1def-4049-9db4-9f5319254319', 'type': 'tool_call'}], usage_metadata={'input_tokens': 55, 'output_tokens': 13, 'total_tokens': 68, 'input_token_details': {'cache_read': 0}}),\n",
              " ToolMessage(content='[{\"title\": \"March 2025 Weather History in San Francisco California, United ...\", \"url\": \"https://weatherspark.com/h/m/557/2025/3/Historical-Weather-in-March-2025-in-San-Francisco-California-United-States\", \"content\": \",0l6,0l5,0l6,176l5,80l6,176l6,0l5,-80l6,80l5,-432l6,-272l5,-96l6,-80l6,-176l5,-96l6,-448l5,0l6,96l6,272l5,256l6,176l5,176l6,96l5,0l6,96l6,-96l5,176l6,272\\\\\" [...] ,-49l5,0l6,196l5,98l6,-98l5,342l6,-49l6,-48l5,-49l6,-147l5,147l6,97l6,98l5,-98l5,0l1,49l5,196l6,-147l5,0l6,0l6,-49l5,-293l6,-98l5,-342l6,-49l6,147l5,-147l6,244l5,196l6,196l5,-196l5,98l1,49l6,49l5,0l6,146l5,196l6,-147l6,-98l5,245l6,-245l5,0l6,245l5,-245l6,0l6,49l5,-97l6,-147l5,-147l6,-49l6,49l5,98l6,0l5,147l6,0l5,49l6,293l6,0l5,-147l6,0\\\\\" [...] d=\\\\\"M750,449l134,0l0,393l-134,0ZM884,384l134,0l0,523l-134,0ZM1018,678l134,0l0,295l-134,0ZM1152,646l134,0l0,523l-134,0ZM1286,1104l134,0l0,392l-134,0ZM1420,1202l134,0l0,425l-134,0ZM1554,1562l134,0l0,294l-134,0ZM1688,1398l134,0l0,328l-134,0ZM1822,1136l134,0l0,328l-134,0ZM1956,744l134,0l0,425l-134,0ZM2090,613l134,0l0,556l-134,0ZM2224,1202l134,0l0,753l-134,0ZM2358,1496l134,0l0,622l-134,0ZM2492,776l134,0l0,655l-134,0ZM2626,515l134,0l0,229l-134,0ZM2760,776l134,0l0,557l-134,0ZM2894,1398l134,0l0,131l-134\", \"score\": 0.8700796}]', name='tavily_search_results_json', id='2f7a7766-b096-424c-b3a4-6f6e196fdb2f', tool_call_id='cd270d5c-1def-4049-9db4-9f5319254319', artifact={'query': 'weather in San Francisco', 'follow_up_questions': None, 'answer': None, 'images': [], 'results': [{'url': 'https://weatherspark.com/h/m/557/2025/3/Historical-Weather-in-March-2025-in-San-Francisco-California-United-States', 'title': 'March 2025 Weather History in San Francisco California, United ...', 'content': ',0l6,0l5,0l6,176l5,80l6,176l6,0l5,-80l6,80l5,-432l6,-272l5,-96l6,-80l6,-176l5,-96l6,-448l5,0l6,96l6,272l5,256l6,176l5,176l6,96l5,0l6,96l6,-96l5,176l6,272\" [...] ,-49l5,0l6,196l5,98l6,-98l5,342l6,-49l6,-48l5,-49l6,-147l5,147l6,97l6,98l5,-98l5,0l1,49l5,196l6,-147l5,0l6,0l6,-49l5,-293l6,-98l5,-342l6,-49l6,147l5,-147l6,244l5,196l6,196l5,-196l5,98l1,49l6,49l5,0l6,146l5,196l6,-147l6,-98l5,245l6,-245l5,0l6,245l5,-245l6,0l6,49l5,-97l6,-147l5,-147l6,-49l6,49l5,98l6,0l5,147l6,0l5,49l6,293l6,0l5,-147l6,0\" [...] d=\"M750,449l134,0l0,393l-134,0ZM884,384l134,0l0,523l-134,0ZM1018,678l134,0l0,295l-134,0ZM1152,646l134,0l0,523l-134,0ZM1286,1104l134,0l0,392l-134,0ZM1420,1202l134,0l0,425l-134,0ZM1554,1562l134,0l0,294l-134,0ZM1688,1398l134,0l0,328l-134,0ZM1822,1136l134,0l0,328l-134,0ZM1956,744l134,0l0,425l-134,0ZM2090,613l134,0l0,556l-134,0ZM2224,1202l134,0l0,753l-134,0ZM2358,1496l134,0l0,622l-134,0ZM2492,776l134,0l0,655l-134,0ZM2626,515l134,0l0,229l-134,0ZM2760,776l134,0l0,557l-134,0ZM2894,1398l134,0l0,131l-134', 'score': 0.8700796, 'raw_content': None}], 'response_time': 1.05}),\n",
              " AIMessage(content=\"I'm sorry, I don't have the current weather information for San Francisco. The search results I have are for historical weather data in March 2025.\", additional_kwargs={}, response_metadata={'prompt_feedback': {'block_reason': 0, 'safety_ratings': []}, 'finish_reason': 'STOP', 'model_name': 'gemini-2.0-flash', 'safety_ratings': []}, id='run--8f759ee3-4f85-46c7-a1c5-f915e367358d-0', usage_metadata={'input_tokens': 1088, 'output_tokens': 36, 'total_tokens': 1124, 'input_token_details': {'cache_read': 0}})]"
            ]
          },
          "metadata": {},
          "execution_count": 42
        }
      ]
    },
    {
      "cell_type": "markdown",
      "source": [
        "We can check out the LangSmith trace to make sure it's calling the search tool effectively.\n",
        "\n",
        "## Streaming Messages\n",
        "We've seen how the agent can be called with .invoke to get a final response. If the agent executes multiple steps, this may take a while. To show intermediate progress, we can stream back messages as they occur."
      ],
      "metadata": {
        "id": "WST7uXUHQJhP"
      }
    },
    {
      "cell_type": "code",
      "source": [
        "for step in agent_executor.stream(\n",
        "    {\"messages\": [HumanMessage(content=\"whats the weather in sf?\")]},\n",
        "    stream_mode=\"values\",\n",
        "):\n",
        "    step[\"messages\"][-1].pretty_print()"
      ],
      "metadata": {
        "colab": {
          "base_uri": "https://localhost:8080/",
          "height": 375
        },
        "id": "nRYDtZTFQMjb",
        "outputId": "0c376e0f-6da9-444e-dc9d-b1ff3f6c2fe5"
      },
      "execution_count": 39,
      "outputs": [
        {
          "output_type": "error",
          "ename": "ValueError",
          "evalue": "Checkpointer requires one or more of the following 'configurable' keys: ['thread_id', 'checkpoint_ns', 'checkpoint_id']",
          "traceback": [
            "\u001b[0;31m---------------------------------------------------------------------------\u001b[0m",
            "\u001b[0;31mValueError\u001b[0m                                Traceback (most recent call last)",
            "\u001b[0;32m<ipython-input-39-2f56d3f15afd>\u001b[0m in \u001b[0;36m<cell line: 0>\u001b[0;34m()\u001b[0m\n\u001b[0;32m----> 1\u001b[0;31m for step in agent_executor.stream(\n\u001b[0m\u001b[1;32m      2\u001b[0m     \u001b[0;34m{\u001b[0m\u001b[0;34m\"messages\"\u001b[0m\u001b[0;34m:\u001b[0m \u001b[0;34m[\u001b[0m\u001b[0mHumanMessage\u001b[0m\u001b[0;34m(\u001b[0m\u001b[0mcontent\u001b[0m\u001b[0;34m=\u001b[0m\u001b[0;34m\"whats the weather in sf?\"\u001b[0m\u001b[0;34m)\u001b[0m\u001b[0;34m]\u001b[0m\u001b[0;34m}\u001b[0m\u001b[0;34m,\u001b[0m\u001b[0;34m\u001b[0m\u001b[0;34m\u001b[0m\u001b[0m\n\u001b[1;32m      3\u001b[0m     \u001b[0mstream_mode\u001b[0m\u001b[0;34m=\u001b[0m\u001b[0;34m\"values\"\u001b[0m\u001b[0;34m,\u001b[0m\u001b[0;34m\u001b[0m\u001b[0;34m\u001b[0m\u001b[0m\n\u001b[1;32m      4\u001b[0m ):\n\u001b[1;32m      5\u001b[0m     \u001b[0mstep\u001b[0m\u001b[0;34m[\u001b[0m\u001b[0;34m\"messages\"\u001b[0m\u001b[0;34m]\u001b[0m\u001b[0;34m[\u001b[0m\u001b[0;34m-\u001b[0m\u001b[0;36m1\u001b[0m\u001b[0;34m]\u001b[0m\u001b[0;34m.\u001b[0m\u001b[0mpretty_print\u001b[0m\u001b[0;34m(\u001b[0m\u001b[0;34m)\u001b[0m\u001b[0;34m\u001b[0m\u001b[0;34m\u001b[0m\u001b[0m\n",
            "\u001b[0;32m/usr/local/lib/python3.11/dist-packages/langgraph/pregel/__init__.py\u001b[0m in \u001b[0;36mstream\u001b[0;34m(self, input, config, stream_mode, output_keys, interrupt_before, interrupt_after, checkpoint_during, debug, subgraphs)\u001b[0m\n\u001b[1;32m   2341\u001b[0m                 \u001b[0mstore\u001b[0m\u001b[0;34m,\u001b[0m\u001b[0;34m\u001b[0m\u001b[0;34m\u001b[0m\u001b[0m\n\u001b[1;32m   2342\u001b[0m                 \u001b[0mcache\u001b[0m\u001b[0;34m,\u001b[0m\u001b[0;34m\u001b[0m\u001b[0;34m\u001b[0m\u001b[0m\n\u001b[0;32m-> 2343\u001b[0;31m             \u001b[0;34m)\u001b[0m \u001b[0;34m=\u001b[0m \u001b[0mself\u001b[0m\u001b[0;34m.\u001b[0m\u001b[0m_defaults\u001b[0m\u001b[0;34m(\u001b[0m\u001b[0;34m\u001b[0m\u001b[0;34m\u001b[0m\u001b[0m\n\u001b[0m\u001b[1;32m   2344\u001b[0m                 \u001b[0mconfig\u001b[0m\u001b[0;34m,\u001b[0m\u001b[0;34m\u001b[0m\u001b[0;34m\u001b[0m\u001b[0m\n\u001b[1;32m   2345\u001b[0m                 \u001b[0mstream_mode\u001b[0m\u001b[0;34m=\u001b[0m\u001b[0mstream_mode\u001b[0m\u001b[0;34m,\u001b[0m\u001b[0;34m\u001b[0m\u001b[0;34m\u001b[0m\u001b[0m\n",
            "\u001b[0;32m/usr/local/lib/python3.11/dist-packages/langgraph/pregel/__init__.py\u001b[0m in \u001b[0;36m_defaults\u001b[0;34m(self, config, stream_mode, output_keys, interrupt_before, interrupt_after, debug)\u001b[0m\n\u001b[1;32m   2232\u001b[0m             \u001b[0mcheckpointer\u001b[0m \u001b[0;34m=\u001b[0m \u001b[0mself\u001b[0m\u001b[0;34m.\u001b[0m\u001b[0mcheckpointer\u001b[0m\u001b[0;34m\u001b[0m\u001b[0;34m\u001b[0m\u001b[0m\n\u001b[1;32m   2233\u001b[0m         \u001b[0;32mif\u001b[0m \u001b[0mcheckpointer\u001b[0m \u001b[0;32mand\u001b[0m \u001b[0;32mnot\u001b[0m \u001b[0mconfig\u001b[0m\u001b[0;34m.\u001b[0m\u001b[0mget\u001b[0m\u001b[0;34m(\u001b[0m\u001b[0mCONF\u001b[0m\u001b[0;34m)\u001b[0m\u001b[0;34m:\u001b[0m\u001b[0;34m\u001b[0m\u001b[0;34m\u001b[0m\u001b[0m\n\u001b[0;32m-> 2234\u001b[0;31m             raise ValueError(\n\u001b[0m\u001b[1;32m   2235\u001b[0m                 \u001b[0;34mf\"Checkpointer requires one or more of the following 'configurable' keys: {[s.id for s in checkpointer.config_specs]}\"\u001b[0m\u001b[0;34m\u001b[0m\u001b[0;34m\u001b[0m\u001b[0m\n\u001b[1;32m   2236\u001b[0m             )\n",
            "\u001b[0;31mValueError\u001b[0m: Checkpointer requires one or more of the following 'configurable' keys: ['thread_id', 'checkpoint_ns', 'checkpoint_id']"
          ]
        }
      ]
    },
    {
      "cell_type": "markdown",
      "source": [
        "## Streaming tokens\n",
        "In addition to streaming back messages, it is also useful to stream back tokens. We can do this by specifying stream_mode=\"messages\".\n",
        "\n",
        "Below we use` message.text()`, which requires langchain-core>=0.3.37.\n"
      ],
      "metadata": {
        "id": "FssTDGd2QvFX"
      }
    },
    {
      "cell_type": "code",
      "source": [
        "for step, metadata in agent_executor.stream(\n",
        "    {\"messages\": [HumanMessage(content=\"whats the weather in sf?\")]},\n",
        "    stream_mode=\"messages\",\n",
        "):\n",
        "    if metadata[\"langgraph_node\"] == \"agent\" and (text := step.text()):\n",
        "        print(text, end=\"|\")"
      ],
      "metadata": {
        "colab": {
          "base_uri": "https://localhost:8080/"
        },
        "id": "23DvEj7FQ5HL",
        "outputId": "7b947a87-06d5-41e4-d1a0-ba68f8ff07f8"
      },
      "execution_count": 32,
      "outputs": [
        {
          "output_type": "stream",
          "name": "stdout",
          "text": [
            "I am sorry,| I cannot provide specific real-time weather conditions for San Francisco using the available tools.| The search results provide historical weather data for March 2025, which| is not what you are asking for.\n",
            "|"
          ]
        }
      ]
    },
    {
      "cell_type": "markdown",
      "source": [
        "## Adding in memory\n",
        "As mentioned earlier, this agent is stateless. This means it does not remember previous interactions. To give it memory we need to pass in a checkpointer. When passing in a checkpointer, we also have to pass in a `thread_id` when invoking the agent (so it knows which thread/conversation to resume from)."
      ],
      "metadata": {
        "id": "TICcNK48RKLA"
      }
    },
    {
      "cell_type": "code",
      "source": [
        "from langgraph.checkpoint.memory import MemorySaver\n",
        "\n",
        "memory = MemorySaver()\n",
        "\n",
        "agent_executor = create_react_agent(model, tools, checkpointer=memory)\n",
        "\n",
        "config = {\"configurable\": {\"thread_id\": \"abc123\"}}\n",
        "\n",
        "for chunk in agent_executor.stream(\n",
        "    {\"messages\": [HumanMessage(content=\"hi im bob!\")]}, config\n",
        "):\n",
        "    print(chunk)\n",
        "    print(\"----\")"
      ],
      "metadata": {
        "colab": {
          "base_uri": "https://localhost:8080/"
        },
        "id": "CuMVVSLxRUsZ",
        "outputId": "1e059a23-d122-478e-b57f-a9539acfb32f"
      },
      "execution_count": 35,
      "outputs": [
        {
          "output_type": "stream",
          "name": "stdout",
          "text": [
            "{'agent': {'messages': [AIMessage(content='Hi Bob! How can I help you today?', additional_kwargs={}, response_metadata={'prompt_feedback': {'block_reason': 0, 'safety_ratings': []}, 'finish_reason': 'STOP', 'model_name': 'gemini-2.0-flash', 'safety_ratings': []}, id='run--c808ad7f-c424-45fe-a23b-f69db5237b9e-0', usage_metadata={'input_tokens': 53, 'output_tokens': 11, 'total_tokens': 64, 'input_token_details': {'cache_read': 0}})]}}\n",
            "----\n"
          ]
        }
      ]
    },
    {
      "cell_type": "markdown",
      "source": [
        "Let's see if it does record that I'm Bob:"
      ],
      "metadata": {
        "id": "5xMTuJLjRlUu"
      }
    },
    {
      "cell_type": "code",
      "source": [
        "for chunk in agent_executor.stream(\n",
        "    {\"messages\": [HumanMessage(content=\"whats my name?\")]}, config\n",
        "):\n",
        "    print(chunk)\n",
        "    print(\"----\")"
      ],
      "metadata": {
        "colab": {
          "base_uri": "https://localhost:8080/"
        },
        "id": "0CjcJZ9MRZQK",
        "outputId": "43904fa9-9f7a-4e11-c23a-c6cf58a42416"
      },
      "execution_count": 36,
      "outputs": [
        {
          "output_type": "stream",
          "name": "stdout",
          "text": [
            "{'agent': {'messages': [AIMessage(content='Your name is Bob.', additional_kwargs={}, response_metadata={'prompt_feedback': {'block_reason': 0, 'safety_ratings': []}, 'finish_reason': 'STOP', 'model_name': 'gemini-2.0-flash', 'safety_ratings': []}, id='run--a050b1c1-1cab-438c-8027-dfb977dd0878-0', usage_metadata={'input_tokens': 67, 'output_tokens': 6, 'total_tokens': 73, 'input_token_details': {'cache_read': 0}})]}}\n",
            "----\n"
          ]
        }
      ]
    },
    {
      "cell_type": "markdown",
      "source": [
        "If you want to start a new conversation, all you have to do is change the `thread_id` used. In the execution below, it will not know my name."
      ],
      "metadata": {
        "id": "4rIEkr9JRrJm"
      }
    },
    {
      "cell_type": "code",
      "source": [
        "config = {\"configurable\": {\"thread_id\": \"xyz123\"}}\n",
        "for chunk in agent_executor.stream(\n",
        "    {\"messages\": [HumanMessage(content=\"whats my name?\")]}, config\n",
        "):\n",
        "    print(chunk)\n",
        "    print(\"----\")"
      ],
      "metadata": {
        "colab": {
          "base_uri": "https://localhost:8080/"
        },
        "id": "lnPe5hM5Rxpk",
        "outputId": "c9f747ae-fd19-4b93-9342-35af1373b633"
      },
      "execution_count": 37,
      "outputs": [
        {
          "output_type": "stream",
          "name": "stdout",
          "text": [
            "{'agent': {'messages': [AIMessage(content=\"I do not have access to personal information, so I don't know your name.\", additional_kwargs={}, response_metadata={'prompt_feedback': {'block_reason': 0, 'safety_ratings': []}, 'finish_reason': 'STOP', 'model_name': 'gemini-2.0-flash', 'safety_ratings': []}, id='run--e1509b4d-8d10-458c-8cba-90e08536eff8-0', usage_metadata={'input_tokens': 53, 'output_tokens': 19, 'total_tokens': 72, 'input_token_details': {'cache_read': 0}})]}}\n",
            "----\n"
          ]
        }
      ]
    },
    {
      "cell_type": "markdown",
      "source": [],
      "metadata": {
        "id": "pLMGXY6ZSHHm"
      }
    },
    {
      "cell_type": "markdown",
      "source": [
        "## Conclusion\n",
        "That's a wrap! In this quick start we covered how to create a simple agent. We've then shown how to stream back a response - not only with the intermediate steps, but also tokens! We've also added in memory so you can have a conversation with them. Agents are a complex topic with lots to learn!\n",
        "\n",
        "For more information on Agents, please check out the [LangGraph ](https://python.langchain.com/docs/concepts/architecture/#langgraph)documentation. This has it's own set of concepts, tutorials, and how-to guides.\n"
      ],
      "metadata": {
        "id": "UwZ_m_luSGGQ"
      }
    },
    {
      "cell_type": "code",
      "source": [],
      "metadata": {
        "id": "IYW6OrKLSWi4"
      },
      "execution_count": null,
      "outputs": []
    }
  ]
}